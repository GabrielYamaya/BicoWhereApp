{
  "nbformat": 4,
  "nbformat_minor": 0,
  "metadata": {
    "colab": {
      "provenance": [],
      "authorship_tag": "ABX9TyOW1/XVJmbxe++ylYZmIDZx",
      "include_colab_link": true
    },
    "kernelspec": {
      "name": "python3",
      "display_name": "Python 3"
    },
    "language_info": {
      "name": "python"
    }
  },
  "cells": [
    {
      "cell_type": "markdown",
      "metadata": {
        "id": "view-in-github",
        "colab_type": "text"
      },
      "source": [
        "<a href=\"https://colab.research.google.com/github/GabrielYamaya/BicoWhereApp/blob/main/Exemplo_ETL.ipynb\" target=\"_parent\"><img src=\"https://colab.research.google.com/assets/colab-badge.svg\" alt=\"Open In Colab\"/></a>"
      ]
    },
    {
      "cell_type": "markdown",
      "source": [
        "Teste de extração"
      ],
      "metadata": {
        "id": "Ck68YuTRb10v"
      }
    },
    {
      "cell_type": "code",
      "source": [
        "import pandas as pd\n",
        "\n",
        "# Extração de dados da filial 1 (CSV)\n",
        "vendas_filial1 = pd.read_csv('vendas_filial1.csv')\n",
        "\n",
        "# Extração de dados da filial 2 (Excel)\n",
        "vendas_filial2 = pd.read_excel('vendas_filial2.xlsx')\n",
        "\n",
        "# Visualização dos dados da filial 1\n",
        "print(\"Dados da filial 1: \")\n",
        "print(vendas_filial1.head())\n",
        "\n",
        "# Visualização dos dados da filial 2\n",
        "print(\"Dados da filial 2: \")\n",
        "print(vendas_filial2.head())"
      ],
      "metadata": {
        "id": "FFH6mKuebf5P"
      },
      "execution_count": null,
      "outputs": []
    },
    {
      "cell_type": "markdown",
      "source": [
        "Teste de transformação"
      ],
      "metadata": {
        "id": "NUD_P8d2bro4"
      }
    },
    {
      "cell_type": "code",
      "execution_count": 3,
      "metadata": {
        "colab": {
          "base_uri": "https://localhost:8080/"
        },
        "id": "9G-izE8JDqFI",
        "outputId": "c2fd7ab3-22b2-4d3a-b0df-2344d9491bb9"
      },
      "outputs": [
        {
          "output_type": "stream",
          "name": "stdout",
          "text": [
            "Dados da filial 1: \n",
            "   ID do Produto                   Nome do Produto  Quantidade Vendida  \\\n",
            "0            101                Laptop Dell XPS 13                  20   \n",
            "1            102     Smartphone Samsung Galaxy S20                  30   \n",
            "2            103          Monitor LG UltraWide 34\"                  15   \n",
            "3            104  Teclado Mecânico Corsair K95 RGB                  25   \n",
            "4            105        Mouse Logitech MX Master 3                  10   \n",
            "\n",
            "   Preço Unitário  \n",
            "0          1500.0  \n",
            "1          1000.0  \n",
            "2           600.0  \n",
            "3           200.0  \n",
            "4            80.0  \n",
            "Dados da filial 2: \n",
            "   ID do Produto                    Nome do Produto  Quantidade Vendida  \\\n",
            "0            201         Impressora HP LaserJet Pro                  12   \n",
            "1            202                    SSD Samsung 1TB                  18   \n",
            "2            203              Tablet Apple iPad Pro                   8   \n",
            "3            204  Smartwatch Samsung Galaxy Watch 4                  14   \n",
            "4            205            Headset HyperX Cloud II                  20   \n",
            "\n",
            "   Preço Unitário  \n",
            "0           250.0  \n",
            "1           180.0  \n",
            "2           900.0  \n",
            "3           300.0  \n",
            "4           120.0  \n"
          ]
        }
      ],
      "source": [
        "import pandas as pd\n",
        "\n",
        "# Extração de dados da filial 1 (CSV)\n",
        "vendas_filial1 = pd.read_csv('vendas_filial1.csv')\n",
        "\n",
        "# Extração de dados da filial 2 (Excel)\n",
        "vendas_filial2 = pd.read_excel('vendas_filial2.xlsx')\n",
        "\n",
        "# Transformações dos dados para adicionar e calcular a coluna total de vendas\n",
        "vendas_filial1['valor total'] = vendas_filial1['Quantidade Vendida'] * vendas_filial1['Preço Unitário']\n",
        "vendas_filial2['valor total'] = vendas_filial2['Quantidade Vendida'] * vendas_filial2['Preço Unitário']\n",
        "\n",
        "# Visualização dos dados da filial 1\n",
        "print(\"Dados da filial 1: \")\n",
        "print(vendas_filial1.head())\n",
        "\n",
        "# Visualização dos dados da filial 2\n",
        "print(\"Dados da filial 2: \")\n",
        "print(vendas_filial2.head())\n",
        "\n"
      ]
    },
    {
      "cell_type": "markdown",
      "source": [
        "Teste de carregamento"
      ],
      "metadata": {
        "id": "WS4RXYEnbnfB"
      }
    },
    {
      "cell_type": "code",
      "source": [
        "# Carregamento\n",
        "vendas_filial1.to_csv('vendas_filial1_transformados.csv', index = False)\n",
        "vendas_filial2.to_csv('vendas_filial2_transformados.csv', index = False)\n",
        "\n",
        "# Apresentar os dados carregados dos arquivos .CSV\n",
        "vendas_filial1 = pd.read_csv('vendas_filial1_transformados.csv')\n",
        "vendas_filial2 = pd.read_csv('vendas_filial2_transformados.csv')\n",
        "\n",
        "# Visualização dos dados da filial 1\n",
        "print(\"Dados da filial 1: \")\n",
        "print(vendas_filial1.head())\n",
        "\n",
        "# Visualização dos dados da filial 2\n",
        "print(\"Dados da filial 2: \")\n",
        "print(vendas_filial2.head())"
      ],
      "metadata": {
        "colab": {
          "base_uri": "https://localhost:8080/"
        },
        "id": "o8BlcSnvbe5i",
        "outputId": "00ce99ec-546c-4b95-f73a-858240c8caad"
      },
      "execution_count": 4,
      "outputs": [
        {
          "output_type": "stream",
          "name": "stdout",
          "text": [
            "Dados da filial 1: \n",
            "   ID do Produto                   Nome do Produto  Quantidade Vendida  \\\n",
            "0            101                Laptop Dell XPS 13                  20   \n",
            "1            102     Smartphone Samsung Galaxy S20                  30   \n",
            "2            103          Monitor LG UltraWide 34\"                  15   \n",
            "3            104  Teclado Mecânico Corsair K95 RGB                  25   \n",
            "4            105        Mouse Logitech MX Master 3                  10   \n",
            "\n",
            "   Preço Unitário  \n",
            "0          1500.0  \n",
            "1          1000.0  \n",
            "2           600.0  \n",
            "3           200.0  \n",
            "4            80.0  \n",
            "Dados da filial 2: \n",
            "   ID do Produto                    Nome do Produto  Quantidade Vendida  \\\n",
            "0            201         Impressora HP LaserJet Pro                  12   \n",
            "1            202                    SSD Samsung 1TB                  18   \n",
            "2            203              Tablet Apple iPad Pro                   8   \n",
            "3            204  Smartwatch Samsung Galaxy Watch 4                  14   \n",
            "4            205            Headset HyperX Cloud II                  20   \n",
            "\n",
            "   Preço Unitário  \n",
            "0           250.0  \n",
            "1           180.0  \n",
            "2           900.0  \n",
            "3           300.0  \n",
            "4           120.0  \n"
          ]
        }
      ]
    }
  ]
}